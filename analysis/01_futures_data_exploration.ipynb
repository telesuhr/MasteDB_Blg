{
 "cells": [
  {
   "cell_type": "markdown",
   "metadata": {},
   "source": [
    "# 先物データ探索\n",
    "\n",
    "このノートブックでは、Azure SQL Databaseに接続してLME、SHFE、CMXの銅先物データを取得・表示します。"
   ]
  },
  {
   "cell_type": "markdown",
   "metadata": {},
   "source": [
    "## 1. 必要なライブラリのインポート"
   ]
  },
  {
   "cell_type": "code",
   "execution_count": null,
   "metadata": {},
   "outputs": [],
   "source": [
    "import sys\n",
    "import os\n",
    "import pandas as pd\n",
    "import numpy as np\n",
    "import pyodbc\n",
    "from datetime import datetime, timedelta\n",
    "import matplotlib.pyplot as plt\n",
    "import seaborn as sns\n",
    "import warnings\n",
    "\n",
    "# プロジェクトのルートディレクトリをPythonパスに追加\n",
    "project_root = os.path.dirname(os.path.dirname(os.path.abspath('__file__')))\n",
    "sys.path.insert(0, project_root)\n",
    "\n",
    "# 設定のインポート\n",
    "from config.database_config import get_connection_string\n",
    "\n",
    "# 警告を抑制\n",
    "warnings.filterwarnings('ignore')\n",
    "\n",
    "# プロット設定\n",
    "plt.style.use('seaborn-v0_8-darkgrid')\n",
    "plt.rcParams['figure.figsize'] = (12, 6)\n",
    "plt.rcParams['font.size'] = 10\n",
    "\n",
    "print(\"ライブラリのインポートが完了しました。\")"
   ]
  },
  {
   "cell_type": "markdown",
   "metadata": {},
   "source": [
    "## 2. データベース接続関数の定義"
   ]
  },
  {
   "cell_type": "code",
   "execution_count": null,
   "metadata": {},
   "outputs": [],
   "source": [
    "def connect_to_database():\n",
    "    \"\"\"Azure SQL Databaseに接続\"\"\"\n",
    "    try:\n",
    "        conn_string = get_connection_string()\n",
    "        conn = pyodbc.connect(conn_string)\n",
    "        print(\"データベースに正常に接続しました。\")\n",
    "        return conn\n",
    "    except Exception as e:\n",
    "        print(f\"データベース接続エラー: {e}\")\n",
    "        return None\n",
    "\n",
    "def execute_query(conn, query):\n",
    "    \"\"\"SQLクエリを実行してDataFrameを返す\"\"\"\n",
    "    try:\n",
    "        with warnings.catch_warnings():\n",
    "            warnings.filterwarnings(\"ignore\", message=\"pandas only supports SQLAlchemy\")\n",
    "            df = pd.read_sql(query, conn)\n",
    "        return df\n",
    "    except Exception as e:\n",
    "        print(f\"クエリ実行エラー: {e}\")\n",
    "        return None"
   ]
  },
  {
   "cell_type": "markdown",
   "metadata": {},
   "source": [
    "## 3. データベース接続テスト"
   ]
  },
  {
   "cell_type": "code",
   "execution_count": null,
   "metadata": {},
   "outputs": [],
   "source": [
    "# データベースに接続\n",
    "conn = connect_to_database()\n",
    "\n",
    "if conn:\n",
    "    # マスタデータの確認\n",
    "    query = \"\"\"\n",
    "    SELECT \n",
    "        MetalCode,\n",
    "        MetalName,\n",
    "        CurrencyCode,\n",
    "        ExchangeCode\n",
    "    FROM M_Metal\n",
    "    ORDER BY MetalID\n",
    "    \"\"\"\n",
    "    \n",
    "    metals_df = execute_query(conn, query)\n",
    "    if metals_df is not None:\n",
    "        print(\"\\n登録されている金属マスタ:\")\n",
    "        display(metals_df)"
   ]
  },
  {
   "cell_type": "markdown",
   "metadata": {},
   "source": [
    "## 4. 限月タイプの確認"
   ]
  },
  {
   "cell_type": "code",
   "execution_count": null,
   "metadata": {},
   "outputs": [],
   "source": [
    "if conn:\n",
    "    query = \"\"\"\n",
    "    SELECT \n",
    "        TenorTypeID,\n",
    "        TenorTypeName,\n",
    "        Description\n",
    "    FROM M_TenorType\n",
    "    WHERE TenorTypeName LIKE '%Future%'\n",
    "    ORDER BY TenorTypeID\n",
    "    \"\"\"\n",
    "    \n",
    "    tenor_types_df = execute_query(conn, query)\n",
    "    if tenor_types_df is not None:\n",
    "        print(\"\\n先物関連の限月タイプ:\")\n",
    "        display(tenor_types_df)"
   ]
  },
  {
   "cell_type": "markdown",
   "metadata": {},
   "source": [
    "## 5. LME銅先物データの取得"
   ]
  },
  {
   "cell_type": "code",
   "execution_count": null,
   "metadata": {},
   "outputs": [],
   "source": [
    "if conn:\n",
    "    # 最新30日間のLME銅先物データを取得\n",
    "    query = \"\"\"\n",
    "    SELECT \n",
    "        p.TradeDate,\n",
    "        m.MetalCode,\n",
    "        m.ExchangeCode,\n",
    "        t.TenorTypeName,\n",
    "        p.SettlementPrice,\n",
    "        p.OpenPrice,\n",
    "        p.HighPrice,\n",
    "        p.LowPrice,\n",
    "        p.LastPrice,\n",
    "        p.Volume,\n",
    "        p.OpenInterest\n",
    "    FROM T_CommodityPrice p\n",
    "    INNER JOIN M_Metal m ON p.MetalID = m.MetalID\n",
    "    INNER JOIN M_TenorType t ON p.TenorTypeID = t.TenorTypeID\n",
    "    WHERE \n",
    "        m.MetalCode = 'COPPER'\n",
    "        AND t.TenorTypeName LIKE 'Generic%Future%'\n",
    "        AND p.TradeDate >= DATEADD(day, -30, GETDATE())\n",
    "    ORDER BY p.TradeDate DESC, t.TenorTypeID\n",
    "    \"\"\"\n",
    "    \n",
    "    lme_futures_df = execute_query(conn, query)\n",
    "    if lme_futures_df is not None:\n",
    "        print(f\"\\nLME銅先物データ: {len(lme_futures_df)}件取得\")\n",
    "        print(\"\\n最新データ（上位10件）:\")\n",
    "        display(lme_futures_df.head(10))"
   ]
  },
  {
   "cell_type": "markdown",
   "metadata": {},
   "source": [
    "## 6. データサマリーの表示"
   ]
  },
  {
   "cell_type": "code",
   "execution_count": null,
   "metadata": {},
   "outputs": [],
   "source": [
    "if conn and lme_futures_df is not None and not lme_futures_df.empty:\n",
    "    # 日付範囲\n",
    "    print(f\"\\nデータ期間: {lme_futures_df['TradeDate'].min()} から {lme_futures_df['TradeDate'].max()}\")\n",
    "    \n",
    "    # 限月別の統計\n",
    "    summary_stats = lme_futures_df.groupby('TenorTypeName')['SettlementPrice'].agg([\n",
    "        'count', 'mean', 'std', 'min', 'max'\n",
    "    ]).round(2)\n",
    "    \n",
    "    print(\"\\n限月別の価格統計:\")\n",
    "    display(summary_stats)"
   ]
  },
  {
   "cell_type": "markdown",
   "metadata": {},
   "source": [
    "## 7. 最新取引日の先物カーブ"
   ]
  },
  {
   "cell_type": "code",
   "execution_count": null,
   "metadata": {},
   "outputs": [],
   "source": [
    "if conn and lme_futures_df is not None and not lme_futures_df.empty:\n",
    "    # 最新取引日のデータを抽出\n",
    "    latest_date = lme_futures_df['TradeDate'].max()\n",
    "    latest_data = lme_futures_df[lme_futures_df['TradeDate'] == latest_date].copy()\n",
    "    \n",
    "    # 限月番号を抽出して順序を設定\n",
    "    latest_data['TenorNumber'] = latest_data['TenorTypeName'].str.extract(r'Generic (\\d+)')[0].astype(int)\n",
    "    latest_data = latest_data.sort_values('TenorNumber')\n",
    "    \n",
    "    print(f\"\\n最新取引日 ({latest_date}) の先物価格:\")\n",
    "    display(latest_data[['TenorTypeName', 'SettlementPrice', 'Volume', 'OpenInterest']])"
   ]
  },
  {
   "cell_type": "markdown",
   "metadata": {},
   "source": [
    "## 8. データベース接続のクローズ"
   ]
  },
  {
   "cell_type": "code",
   "execution_count": null,
   "metadata": {},
   "outputs": [],
   "source": [
    "if conn:\n",
    "    conn.close()\n",
    "    print(\"データベース接続をクローズしました。\")"
   ]
  }
 ],
 "metadata": {
  "kernelspec": {
   "display_name": "Python 3",
   "language": "python",
   "name": "python3"
  },
  "language_info": {
   "codemirror_mode": {
    "name": "ipython",
    "version": 3
   },
   "file_extension": ".py",
   "mimetype": "text/x-python",
   "name": "python",
   "nbconvert_exporter": "python",
   "pygments_lexer": "ipython3",
   "version": "3.8.0"
  }
 },
 "nbformat": 4,
 "nbformat_minor": 4
}