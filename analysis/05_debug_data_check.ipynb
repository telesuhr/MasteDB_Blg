{
 "cells": [
  {
   "cell_type": "markdown",
   "metadata": {},
   "source": [
    "# Data Debugging and Verification\n",
    "\n",
    "Let's check what data is actually in the database."
   ]
  },
  {
   "cell_type": "code",
   "execution_count": null,
   "metadata": {},
   "outputs": [],
   "source": [
    "import sys\n",
    "import os\n",
    "import pandas as pd\n",
    "import pyodbc\n",
    "import warnings\n",
    "\n",
    "# Add project root to Python path\n",
    "project_root = os.path.dirname(os.path.dirname(os.path.abspath('__file__')))\n",
    "sys.path.insert(0, project_root)\n",
    "\n",
    "from config.database_config import get_connection_string\n",
    "\n",
    "warnings.filterwarnings('ignore')\n",
    "\n",
    "# Connect to database\n",
    "conn = pyodbc.connect(get_connection_string())\n",
    "print(\"Connected to database\")"
   ]
  },
  {
   "cell_type": "markdown",
   "metadata": {},
   "source": [
    "## 1. Check Available Metal Codes"
   ]
  },
  {
   "cell_type": "code",
   "metadata": {},
   "outputs": [],
   "source": "query = \"\"\"\nSELECT \n    m.MetalCode,\n    m.ExchangeCode,\n    t.TenorTypeName,\n    COUNT(*) as RecordCount,\n    MIN(p.TradeDate) as FirstDate,\n    MAX(p.TradeDate) as LastDate\nFROM T_CommodityPrice p\nINNER JOIN M_Metal m ON p.MetalID = m.MetalID\nINNER JOIN M_TenorType t ON p.TenorTypeID = t.TenorTypeID\nGROUP BY m.MetalCode, m.ExchangeCode, t.TenorTypeName\nORDER BY m.MetalCode, t.TenorTypeName\n\"\"\"\n\ndata_summary = pd.read_sql(query, conn)\nprint(\"Data summary by metal and tenor:\")\nprint(data_summary)"
  },
  {
   "cell_type": "markdown",
   "metadata": {},
   "source": [
    "## 2. Check Available Tenor Types"
   ]
  },
  {
   "cell_type": "code",
   "execution_count": null,
   "metadata": {},
   "outputs": [],
   "source": [
    "query = \"\"\"\n",
    "SELECT TenorTypeID, TenorTypeName\n",
    "FROM M_TenorType\n",
    "ORDER BY TenorTypeID\n",
    "\"\"\"\n",
    "\n",
    "tenors_df = pd.read_sql(query, conn)\n",
    "print(\"Available tenor types:\")\n",
    "print(tenors_df)"
   ]
  },
  {
   "cell_type": "markdown",
   "metadata": {},
   "source": [
    "## 3. Check Data Count by Metal and Tenor"
   ]
  },
  {
   "cell_type": "code",
   "execution_count": null,
   "metadata": {},
   "outputs": [],
   "source": [
    "query = \"\"\"\n",
    "SELECT \n",
    "    m.MetalCode,\n",
    "    m.ExchangeCode,\n",
    "    t.TenorTypeName,\n",
    "    COUNT(*) as RecordCount,\n",
    "    MIN(p.TradeDate) as FirstDate,\n",
    "    MAX(p.TradeDate) as LastDate\n",
    "FROM T_CommodityPrice p\n",
    "INNER JOIN M_Metal m ON p.MetalID = m.MetalID\n",
    "INNER JOIN M_TenorType t ON p.TenorTypeID = t.TenorTypeID\n",
    "GROUP BY m.MetalCode, m.ExchangeCode, t.TenorTypeName\n",
    "ORDER BY m.MetalCode, t.TenorTypeID\n",
    "\"\"\"\n",
    "\n",
    "data_summary = pd.read_sql(query, conn)\n",
    "print(\"Data summary by metal and tenor:\")\n",
    "print(data_summary)"
   ]
  },
  {
   "cell_type": "markdown",
   "metadata": {},
   "source": [
    "## 4. Check Recent Price Data"
   ]
  },
  {
   "cell_type": "code",
   "execution_count": null,
   "metadata": {},
   "outputs": [],
   "source": [
    "query = \"\"\"\n",
    "SELECT TOP 20\n",
    "    p.TradeDate,\n",
    "    m.MetalCode,\n",
    "    m.ExchangeCode,\n",
    "    t.TenorTypeName,\n",
    "    p.SettlementPrice,\n",
    "    p.Volume,\n",
    "    p.OpenInterest\n",
    "FROM T_CommodityPrice p\n",
    "INNER JOIN M_Metal m ON p.MetalID = m.MetalID\n",
    "INNER JOIN M_TenorType t ON p.TenorTypeID = t.TenorTypeID\n",
    "WHERE p.SettlementPrice IS NOT NULL\n",
    "ORDER BY p.TradeDate DESC, m.MetalCode, t.TenorTypeID\n",
    "\"\"\"\n",
    "\n",
    "recent_data = pd.read_sql(query, conn)\n",
    "print(\"\\nRecent price data (top 20):\")\n",
    "print(recent_data)"
   ]
  },
  {
   "cell_type": "markdown",
   "metadata": {},
   "source": [
    "## 5. Check Data for Specific Exchange"
   ]
  },
  {
   "cell_type": "code",
   "execution_count": null,
   "metadata": {},
   "outputs": [],
   "source": [
    "# Check each exchange separately\n",
    "for exchange in ['LME', 'SHFE', 'CMX']:\n",
    "    query = f\"\"\"\n",
    "    SELECT TOP 10\n",
    "        p.TradeDate,\n",
    "        m.MetalCode,\n",
    "        t.TenorTypeName,\n",
    "        p.SettlementPrice\n",
    "    FROM T_CommodityPrice p\n",
    "    INNER JOIN M_Metal m ON p.MetalID = m.MetalID\n",
    "    INNER JOIN M_TenorType t ON p.TenorTypeID = t.TenorTypeID\n",
    "    WHERE m.ExchangeCode = '{exchange}'\n",
    "        AND p.SettlementPrice IS NOT NULL\n",
    "    ORDER BY p.TradeDate DESC\n",
    "    \"\"\"\n",
    "    \n",
    "    exchange_data = pd.read_sql(query, conn)\n",
    "    print(f\"\\n{exchange} Data (latest 10 records):\")\n",
    "    if len(exchange_data) > 0:\n",
    "        print(exchange_data)\n",
    "    else:\n",
    "        print(f\"No data found for {exchange}\")"
   ]
  },
  {
   "cell_type": "markdown",
   "metadata": {},
   "source": [
    "## 6. Check Generic Futures Data"
   ]
  },
  {
   "cell_type": "code",
   "execution_count": null,
   "metadata": {},
   "outputs": [],
   "source": [
    "query = \"\"\"\n",
    "SELECT \n",
    "    m.ExchangeCode,\n",
    "    t.TenorTypeName,\n",
    "    COUNT(*) as Count,\n",
    "    AVG(p.SettlementPrice) as AvgPrice\n",
    "FROM T_CommodityPrice p\n",
    "INNER JOIN M_Metal m ON p.MetalID = m.MetalID\n",
    "INNER JOIN M_TenorType t ON p.TenorTypeID = t.TenorTypeID\n",
    "WHERE t.TenorTypeName LIKE '%Generic%Future%'\n",
    "    OR t.TenorTypeName LIKE '%1st%'\n",
    "    OR t.TenorTypeName LIKE '%2nd%'\n",
    "    OR t.TenorTypeName LIKE '%3rd%'\n",
    "    OR t.TenorTypeName LIKE '%th Future%'\n",
    "GROUP BY m.ExchangeCode, t.TenorTypeName\n",
    "ORDER BY m.ExchangeCode, t.TenorTypeName\n",
    "\"\"\"\n",
    "\n",
    "generic_data = pd.read_sql(query, conn)\n",
    "print(\"\\nGeneric futures data summary:\")\n",
    "print(generic_data)"
   ]
  },
  {
   "cell_type": "markdown",
   "metadata": {},
   "source": [
    "## 7. Test the Exact Query Used in Visualization"
   ]
  },
  {
   "cell_type": "code",
   "execution_count": null,
   "metadata": {},
   "outputs": [],
   "source": [
    "# Test the exact query from the visualization notebook\n",
    "days = 90\n",
    "query = f\"\"\"\n",
    "SELECT \n",
    "    p.TradeDate,\n",
    "    m.MetalCode,\n",
    "    m.ExchangeCode,\n",
    "    t.TenorTypeName,\n",
    "    p.SettlementPrice,\n",
    "    p.Volume,\n",
    "    p.OpenInterest,\n",
    "    CASE \n",
    "        WHEN t.TenorTypeName LIKE 'Generic 1%' THEN 1\n",
    "        WHEN t.TenorTypeName LIKE 'Generic 2%' THEN 2\n",
    "        WHEN t.TenorTypeName LIKE 'Generic 3%' THEN 3\n",
    "        WHEN t.TenorTypeName LIKE 'Generic 4%' THEN 4\n",
    "        WHEN t.TenorTypeName LIKE 'Generic 5%' THEN 5\n",
    "        WHEN t.TenorTypeName LIKE 'Generic 6%' THEN 6\n",
    "        WHEN t.TenorTypeName LIKE 'Generic 7%' THEN 7\n",
    "        WHEN t.TenorTypeName LIKE 'Generic 8%' THEN 8\n",
    "        WHEN t.TenorTypeName LIKE 'Generic 9%' THEN 9\n",
    "        WHEN t.TenorTypeName LIKE 'Generic 10%' THEN 10\n",
    "        WHEN t.TenorTypeName LIKE 'Generic 11%' THEN 11\n",
    "        WHEN t.TenorTypeName LIKE 'Generic 12%' THEN 12\n",
    "        ELSE 0\n",
    "    END as TenorNumber\n",
    "FROM T_CommodityPrice p\n",
    "INNER JOIN M_Metal m ON p.MetalID = m.MetalID\n",
    "INNER JOIN M_TenorType t ON p.TenorTypeID = t.TenorTypeID\n",
    "WHERE \n",
    "    t.TenorTypeName LIKE 'Generic%Future%'\n",
    "    AND p.TradeDate >= DATEADD(day, -{days}, GETDATE())\n",
    "    AND p.SettlementPrice IS NOT NULL\n",
    "ORDER BY p.TradeDate DESC, m.ExchangeCode, t.TenorTypeID\n",
    "\"\"\"\n",
    "\n",
    "test_df = pd.read_sql(query, conn)\n",
    "print(f\"\\nQuery results for last {days} days:\")\n",
    "print(f\"Total records: {len(test_df)}\")\n",
    "if len(test_df) > 0:\n",
    "    print(\"\\nFirst 10 records:\")\n",
    "    print(test_df.head(10))\n",
    "    print(\"\\nTenorNumber distribution:\")\n",
    "    print(test_df['TenorNumber'].value_counts().sort_index())\n",
    "else:\n",
    "    print(\"No data found with this query!\")"
   ]
  },
  {
   "cell_type": "markdown",
   "metadata": {},
   "source": [
    "## 8. Alternative Query Test"
   ]
  },
  {
   "cell_type": "code",
   "execution_count": null,
   "metadata": {},
   "outputs": [],
   "source": [
    "# Try a simpler query without the LIKE conditions\n",
    "query = \"\"\"\n",
    "SELECT TOP 50\n",
    "    p.TradeDate,\n",
    "    m.MetalCode,\n",
    "    m.ExchangeCode,\n",
    "    t.TenorTypeName,\n",
    "    t.TenorTypeID,\n",
    "    p.SettlementPrice\n",
    "FROM T_CommodityPrice p\n",
    "INNER JOIN M_Metal m ON p.MetalID = m.MetalID\n",
    "INNER JOIN M_TenorType t ON p.TenorTypeID = t.TenorTypeID\n",
    "WHERE p.SettlementPrice IS NOT NULL\n",
    "    AND p.TradeDate >= '2025-01-01'\n",
    "ORDER BY p.TradeDate DESC, m.ExchangeCode\n",
    "\"\"\"\n",
    "\n",
    "simple_df = pd.read_sql(query, conn)\n",
    "print(\"\\nSimple query results:\")\n",
    "print(simple_df)\n",
    "\n",
    "# Check unique tenor types\n",
    "print(\"\\nUnique TenorTypeNames in the data:\")\n",
    "print(simple_df['TenorTypeName'].unique())"
   ]
  },
  {
   "cell_type": "markdown",
   "metadata": {},
   "source": [
    "## Close Connection"
   ]
  },
  {
   "cell_type": "code",
   "execution_count": null,
   "metadata": {},
   "outputs": [],
   "source": [
    "conn.close()\n",
    "print(\"Database connection closed\")"
   ]
  }
 ],
 "metadata": {
  "kernelspec": {
   "display_name": "Python 3",
   "language": "python",
   "name": "python3"
  },
  "language_info": {
   "codemirror_mode": {
    "name": "ipython",
    "version": 3
   },
   "file_extension": ".py",
   "mimetype": "text/x-python",
   "name": "python",
   "nbconvert_exporter": "python",
   "pygments_lexer": "ipython3",
   "version": "3.8.0"
  }
 },
 "nbformat": 4,
 "nbformat_minor": 4
}