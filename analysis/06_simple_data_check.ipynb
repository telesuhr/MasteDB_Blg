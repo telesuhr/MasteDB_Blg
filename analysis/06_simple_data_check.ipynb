{
 "cells": [
  {
   "cell_type": "markdown",
   "metadata": {},
   "source": [
    "# Simple Data Check\n",
    "\n",
    "Basic queries to understand what's in the database."
   ]
  },
  {
   "cell_type": "code",
   "execution_count": null,
   "metadata": {},
   "outputs": [],
   "source": [
    "import sys\n",
    "import os\n",
    "import pandas as pd\n",
    "import pyodbc\n",
    "import warnings\n",
    "\n",
    "# Add project root to Python path\n",
    "project_root = os.path.dirname(os.path.dirname(os.path.abspath('__file__')))\n",
    "sys.path.insert(0, project_root)\n",
    "\n",
    "from config.database_config import get_connection_string\n",
    "\n",
    "warnings.filterwarnings('ignore')\n",
    "\n",
    "# Connect to database\n",
    "conn = pyodbc.connect(get_connection_string())\n",
    "print(\"Connected to database\")"
   ]
  },
  {
   "cell_type": "markdown",
   "metadata": {},
   "source": [
    "## Step 1: Check if we have any price data at all"
   ]
  },
  {
   "cell_type": "code",
   "execution_count": null,
   "metadata": {},
   "outputs": [],
   "source": [
    "query = \"SELECT COUNT(*) as TotalRecords FROM T_CommodityPrice\"\n",
    "result = pd.read_sql(query, conn)\n",
    "print(f\"Total records in T_CommodityPrice: {result['TotalRecords'].iloc[0]}\")"
   ]
  },
  {
   "cell_type": "markdown",
   "metadata": {},
   "source": [
    "## Step 2: Check metals"
   ]
  },
  {
   "cell_type": "code",
   "execution_count": null,
   "metadata": {},
   "outputs": [],
   "source": [
    "query = \"SELECT * FROM M_Metal\"\n",
    "metals = pd.read_sql(query, conn)\n",
    "print(\"All metals in database:\")\n",
    "print(metals)"
   ]
  },
  {
   "cell_type": "markdown",
   "metadata": {},
   "source": [
    "## Step 3: Check tenor types"
   ]
  },
  {
   "cell_type": "code",
   "execution_count": null,
   "metadata": {},
   "outputs": [],
   "source": [
    "query = \"SELECT * FROM M_TenorType\"\n",
    "tenors = pd.read_sql(query, conn)\n",
    "print(\"All tenor types in database:\")\n",
    "print(tenors)"
   ]
  },
  {
   "cell_type": "markdown",
   "metadata": {},
   "source": [
    "## Step 4: Check recent price data (any data)"
   ]
  },
  {
   "cell_type": "code",
   "execution_count": null,
   "metadata": {},
   "outputs": [],
   "source": [
    "query = \"\"\"\n",
    "SELECT TOP 20 \n",
    "    TradeDate, \n",
    "    MetalID, \n",
    "    TenorTypeID, \n",
    "    SettlementPrice\n",
    "FROM T_CommodityPrice \n",
    "WHERE SettlementPrice IS NOT NULL\n",
    "ORDER BY TradeDate DESC\n",
    "\"\"\"\n",
    "\n",
    "recent = pd.read_sql(query, conn)\n",
    "print(\"Recent price data (any metal/tenor):\")\n",
    "print(recent)"
   ]
  },
  {
   "cell_type": "markdown",
   "metadata": {},
   "source": [
    "## Step 5: Join metals and prices to see what we have"
   ]
  },
  {
   "cell_type": "code",
   "execution_count": null,
   "metadata": {},
   "outputs": [],
   "source": [
    "query = \"\"\"\n",
    "SELECT TOP 20\n",
    "    p.TradeDate,\n",
    "    m.MetalCode,\n",
    "    m.ExchangeCode,\n",
    "    p.TenorTypeID,\n",
    "    p.SettlementPrice\n",
    "FROM T_CommodityPrice p\n",
    "INNER JOIN M_Metal m ON p.MetalID = m.MetalID\n",
    "WHERE p.SettlementPrice IS NOT NULL\n",
    "ORDER BY p.TradeDate DESC\n",
    "\"\"\"\n",
    "\n",
    "joined = pd.read_sql(query, conn)\n",
    "print(\"Price data with metal info:\")\n",
    "print(joined)"
   ]
  },
  {
   "cell_type": "markdown",
   "metadata": {},
   "source": [
    "## Step 6: Full join to see tenor names"
   ]
  },
  {
   "cell_type": "code",
   "execution_count": null,
   "metadata": {},
   "outputs": [],
   "source": [
    "query = \"\"\"\n",
    "SELECT TOP 20\n",
    "    p.TradeDate,\n",
    "    m.MetalCode,\n",
    "    m.ExchangeCode,\n",
    "    t.TenorTypeName,\n",
    "    p.SettlementPrice\n",
    "FROM T_CommodityPrice p\n",
    "INNER JOIN M_Metal m ON p.MetalID = m.MetalID\n",
    "INNER JOIN M_TenorType t ON p.TenorTypeID = t.TenorTypeID\n",
    "WHERE p.SettlementPrice IS NOT NULL\n",
    "ORDER BY p.TradeDate DESC\n",
    "\"\"\"\n",
    "\n",
    "full_data = pd.read_sql(query, conn)\n",
    "print(\"Full data with all info:\")\n",
    "print(full_data)"
   ]
  },
  {
   "cell_type": "markdown",
   "metadata": {},
   "source": [
    "## Step 7: Check what tenor types actually contain 'Generic'"
   ]
  },
  {
   "cell_type": "code",
   "execution_count": null,
   "metadata": {},
   "outputs": [],
   "source": [
    "query = \"\"\"\n",
    "SELECT DISTINCT t.TenorTypeName\n",
    "FROM T_CommodityPrice p\n",
    "INNER JOIN M_TenorType t ON p.TenorTypeID = t.TenorTypeID\n",
    "WHERE t.TenorTypeName LIKE '%Generic%'\n",
    "\"\"\"\n",
    "\n",
    "generic_tenors = pd.read_sql(query, conn)\n",
    "print(\"Tenor types containing 'Generic':\")\n",
    "print(generic_tenors)"
   ]
  },
  {
   "cell_type": "markdown",
   "metadata": {},
   "source": [
    "## Step 8: Check what tenor types contain 'Future'"
   ]
  },
  {
   "cell_type": "code",
   "execution_count": null,
   "metadata": {},
   "outputs": [],
   "source": [
    "query = \"\"\"\n",
    "SELECT DISTINCT t.TenorTypeName\n",
    "FROM T_CommodityPrice p\n",
    "INNER JOIN M_TenorType t ON p.TenorTypeID = t.TenorTypeID\n",
    "WHERE t.TenorTypeName LIKE '%Future%'\n",
    "\"\"\"\n",
    "\n",
    "future_tenors = pd.read_sql(query, conn)\n",
    "print(\"Tenor types containing 'Future':\")\n",
    "print(future_tenors)"
   ]
  },
  {
   "cell_type": "markdown",
   "metadata": {},
   "source": [
    "## Step 9: Check all unique tenor types that have data"
   ]
  },
  {
   "cell_type": "code",
   "execution_count": null,
   "metadata": {},
   "outputs": [],
   "source": [
    "query = \"\"\"\n",
    "SELECT DISTINCT t.TenorTypeName\n",
    "FROM T_CommodityPrice p\n",
    "INNER JOIN M_TenorType t ON p.TenorTypeID = t.TenorTypeID\n",
    "WHERE p.SettlementPrice IS NOT NULL\n",
    "ORDER BY t.TenorTypeName\n",
    "\"\"\"\n",
    "\n",
    "all_tenors_with_data = pd.read_sql(query, conn)\n",
    "print(\"All tenor types that have price data:\")\n",
    "print(all_tenors_with_data)"
   ]
  },
  {
   "cell_type": "markdown",
   "metadata": {},
   "source": [
    "## Step 10: Get some actual data for visualization"
   ]
  },
  {
   "cell_type": "code",
   "execution_count": null,
   "metadata": {},
   "outputs": [],
   "source": [
    "# Based on what we found, let's get some actual data\n",
    "query = \"\"\"\n",
    "SELECT \n",
    "    p.TradeDate,\n",
    "    m.MetalCode,\n",
    "    m.ExchangeCode,\n",
    "    t.TenorTypeName,\n",
    "    p.SettlementPrice,\n",
    "    p.Volume,\n",
    "    p.OpenInterest\n",
    "FROM T_CommodityPrice p\n",
    "INNER JOIN M_Metal m ON p.MetalID = m.MetalID\n",
    "INNER JOIN M_TenorType t ON p.TenorTypeID = t.TenorTypeID\n",
    "WHERE p.SettlementPrice IS NOT NULL\n",
    "    AND p.TradeDate >= DATEADD(day, -30, GETDATE())\n",
    "ORDER BY p.TradeDate DESC, m.ExchangeCode, t.TenorTypeName\n",
    "\"\"\"\n",
    "\n",
    "actual_data = pd.read_sql(query, conn)\n",
    "print(f\"\\nFound {len(actual_data)} records in last 30 days\")\n",
    "if len(actual_data) > 0:\n",
    "    print(\"\\nFirst 10 records:\")\n",
    "    print(actual_data.head(10))\n",
    "    \n",
    "    print(\"\\nUnique exchanges:\")\n",
    "    print(actual_data['ExchangeCode'].unique())\n",
    "    \n",
    "    print(\"\\nUnique tenor types:\")\n",
    "    print(actual_data['TenorTypeName'].unique())\n",
    "    \n",
    "    print(\"\\nData count by exchange:\")\n",
    "    print(actual_data['ExchangeCode'].value_counts())\n",
    "else:\n",
    "    print(\"No data found in last 30 days\")"
   ]
  },
  {
   "cell_type": "code",
   "execution_count": null,
   "metadata": {},
   "outputs": [],
   "source": [
    "conn.close()\n",
    "print(\"Database connection closed\")"
   ]
  }
 ],
 "metadata": {
  "kernelspec": {
   "display_name": "Python 3",
   "language": "python",
   "name": "python3"
  },
  "language_info": {
   "codemirror_mode": {
    "name": "ipython",
   "version": 3
   },
   "file_extension": ".py",
   "mimetype": "text/x-python",
   "name": "python",
   "nbconvert_exporter": "python",
   "pygments_lexer": "ipython3",
   "version": "3.8.0"
  }
 },
 "nbformat": 4,
 "nbformat_minor": 4
}