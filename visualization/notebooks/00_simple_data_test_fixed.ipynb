{
 "cells": [
  {
   "cell_type": "markdown",
   "metadata": {},
   "source": [
    "# シンプルなデータ取得テスト\n",
    "\n",
    "データベース接続とデータ取得の基本テストを行います。"
   ]
  },
  {
   "cell_type": "code",
   "execution_count": null,
   "metadata": {},
   "outputs": [],
   "source": [
    "# 基本ライブラリのインポート\n",
    "import pandas as pd\n",
    "import sys\n",
    "import os\n",
    "\n",
    "print(\"Step 1: Basic libraries imported\")"
   ]
  },
  {
   "cell_type": "code",
   "execution_count": null,
   "metadata": {},
   "outputs": [],
   "source": [
    "# パス設定\n",
    "current_dir = os.getcwd()\n",
    "config_path = os.path.join(os.path.dirname(current_dir), 'config')\n",
    "sys.path.insert(0, config_path)\n",
    "\n",
    "print(f\"Step 2: Config path set to: {config_path}\")\n",
    "print(f\"Current directory: {current_dir}\")"
   ]
  },
  {
   "cell_type": "code",
   "execution_count": null,
   "metadata": {},
   "outputs": [],
   "source": [
    "# 設定ファイルのインポートテスト\n",
    "try:\n",
    "    from data_utils import DataFetcher\n",
    "    print(\"Step 3: DataFetcher import - SUCCESS\")\n",
    "except ImportError as e:\n",
    "    print(f\"Step 3: DataFetcher import - FAILED: {e}\")\n",
    "    raise"
   ]
  },
  {
   "cell_type": "code",
   "execution_count": null,
   "metadata": {},
   "outputs": [],
   "source": [
    "# データベース接続テスト\n",
    "try:\n",
    "    fetcher = DataFetcher()\n",
    "    print(\"Step 4: DataFetcher initialization - SUCCESS\")\n",
    "except Exception as e:\n",
    "    print(f\"Step 4: DataFetcher initialization - FAILED: {e}\")\n",
    "    raise"
   ]
  },
  {
   "cell_type": "code",
   "execution_count": null,
   "metadata": {},
   "outputs": [],
   "source": [
    "# 接続テスト\n",
    "try:\n",
    "    connection_result = fetcher.test_connection()\n",
    "    if connection_result:\n",
    "        print(\"Step 5: Database connection test - SUCCESS\")\n",
    "    else:\n",
    "        print(\"Step 5: Database connection test - FAILED\")\n",
    "except Exception as e:\n",
    "    print(f\"Step 5: Database connection test - ERROR: {e}\")"
   ]
  },
  {
   "cell_type": "code",
   "execution_count": null,
   "metadata": {},
   "outputs": [],
   "source": [
    "# 少量のデータ取得テスト（7日分）\n",
    "try:\n",
    "    print(\"Step 6: Fetching small amount of data (7 days)...\")\n",
    "    copper_data = fetcher.get_copper_prices(days=7)\n",
    "    \n",
    "    print(f\"Data retrieved: {len(copper_data)} records\")\n",
    "    \n",
    "    if not copper_data.empty:\n",
    "        print(\"\\nData preview:\")\n",
    "        print(copper_data.head())\n",
    "        \n",
    "        print(\"\\nData info:\")\n",
    "        print(f\"Columns: {list(copper_data.columns)}\")\n",
    "        print(f\"Date range: {copper_data['TradeDate'].min()} to {copper_data['TradeDate'].max()}\")\n",
    "        print(f\"Exchanges: {copper_data['ExchangeCode'].unique()}\")\n",
    "        print(f\"Tenor types: {copper_data['TenorTypeName'].unique()}\")\n",
    "        \n",
    "        print(\"\\nStep 6: Data fetch - SUCCESS\")\n",
    "    else:\n",
    "        print(\"Step 6: Data fetch - WARNING: No data returned\")\n",
    "        \n",
    "except Exception as e:\n",
    "    print(f\"Step 6: Data fetch - ERROR: {e}\")"
   ]
  },
  {
   "cell_type": "code",
   "execution_count": null,
   "metadata": {},
   "outputs": [],
   "source": [
    "# データ詳細確認\n",
    "if 'copper_data' in locals() and not copper_data.empty:\n",
    "    print(\"Step 7: Data analysis\")\n",
    "    print(\"\\nData types:\")\n",
    "    print(copper_data.dtypes)\n",
    "    \n",
    "    print(\"\\nNull values:\")\n",
    "    print(copper_data.isnull().sum())\n",
    "    \n",
    "    print(\"\\nUnique values per column:\")\n",
    "    for col in copper_data.columns:\n",
    "        unique_count = copper_data[col].nunique()\n",
    "        print(f\"  {col}: {unique_count} unique values\")\n",
    "        \n",
    "    print(\"\\nStep 7: Data analysis - COMPLETE\")\n",
    "else:\n",
    "    print(\"Step 7: No data available for analysis\")"
   ]
  },
  {
   "cell_type": "markdown",
   "metadata": {},
   "source": [
    "## アウトライト価格の可視化\n",
    "\n",
    "取得したデータからアウトライト（現物・先物）価格をチャートで表示します。"
   ]
  },
  {
   "cell_type": "code",
   "execution_count": null,
   "metadata": {},
   "outputs": [],
   "source": [
    "# 可視化ライブラリのインポート\n",
    "import matplotlib.pyplot as plt\n",
    "import matplotlib.dates as mdates\n",
    "from datetime import datetime\n",
    "\n",
    "print(\"Step 8: Visualization libraries imported\")\n",
    "\n",
    "# 日本語フォント設定（エラー回避）\n",
    "plt.rcParams['font.family'] = 'DejaVu Sans'\n",
    "plt.rcParams['figure.figsize'] = (12, 6)"
   ]
  },
  {
   "cell_type": "code",
   "execution_count": null,
   "metadata": {},
   "outputs": [],
   "source": [
    "# より多くのヒストリカルデータを取得（30日分）\n",
    "try:\n",
    "    print(\"Step 9: Fetching historical data (30 days)...\")\n",
    "    historical_data = fetcher.get_copper_prices(days=30)\n",
    "    \n",
    "    print(f\"Historical data retrieved: {len(historical_data)} records\")\n",
    "    print(f\"Date range: {historical_data['TradeDate'].min()} to {historical_data['TradeDate'].max()}\")\n",
    "    \n",
    "    # アウトライト価格のフィルタリング（Cash, 3M Futures, Generic 1st Future）\n",
    "    outright_tenors = ['Cash', '3M Futures', 'Generic 1st Future']\n",
    "    outright_data = historical_data[historical_data['TenorTypeName'].isin(outright_tenors)].copy()\n",
    "    \n",
    "    print(f\"Outright data filtered: {len(outright_data)} records\")\n",
    "    print(f\"Available tenors: {outright_data['TenorTypeName'].unique()}\")\n",
    "    \n",
    "    print(\"Step 9: Historical data fetch - SUCCESS\")\n",
    "    \n",
    "except Exception as e:\n",
    "    print(f\"Step 9: Historical data fetch - ERROR: {e}\")\n",
    "    historical_data = pd.DataFrame()\n",
    "    outright_data = pd.DataFrame()"
   ]
  },
  {
   "cell_type": "code",
   "execution_count": null,
   "metadata": {},
   "outputs": [],
   "source": [
    "# アウトライト価格の時系列チャート作成\n",
    "if not outright_data.empty:\n",
    "    print(\"Step 10: Creating outright price chart...\")\n",
    "    \n",
    "    # 日付をdatetimeに変換\n",
    "    outright_data['TradeDate'] = pd.to_datetime(outright_data['TradeDate'])\n",
    "    \n",
    "    # 価格チャートの作成\n",
    "    plt.figure(figsize=(14, 8))\n",
    "    \n",
    "    # 限月タイプごとに線を描画\n",
    "    colors = {'Cash': '#1f77b4', '3M Futures': '#ff7f0e', 'Generic 1st Future': '#2ca02c'}\n",
    "    \n",
    "    for tenor in outright_data['TenorTypeName'].unique():\n",
    "        tenor_data = outright_data[outright_data['TenorTypeName'] == tenor]\n",
    "        if not tenor_data.empty:\n",
    "            plt.plot(tenor_data['TradeDate'], tenor_data['LastPrice'], \n",
    "                    label=tenor, linewidth=2, color=colors.get(tenor, '#333333'), marker='o', markersize=4)\n",
    "    \n",
    "    # チャートの設定\n",
    "    plt.title('Copper Outright Price Historical Chart (30 Days)', fontsize=16, fontweight='bold', pad=20)\n",
    "    plt.xlabel('Date', fontsize=12)\n",
    "    plt.ylabel('Price (USD/MT)', fontsize=12)\n",
    "    plt.legend(fontsize=11)\n",
    "    plt.grid(True, alpha=0.3)\n",
    "    \n",
    "    # 日付軸の書式設定\n",
    "    plt.gca().xaxis.set_major_formatter(mdates.DateFormatter('%Y-%m-%d'))\n",
    "    plt.gca().xaxis.set_major_locator(mdates.DayLocator(interval=3))\n",
    "    plt.xticks(rotation=45)\n",
    "    \n",
    "    # レイアウト調整\n",
    "    plt.tight_layout()\n",
    "    plt.show()\n",
    "    \n",
    "    print(\"Step 10: Outright price chart - SUCCESS\")\n",
    "    \n",
    "else:\n",
    "    print(\"Step 10: No outright data available for charting\")"
   ]
  },
  {
   "cell_type": "code",
   "execution_count": null,
   "metadata": {},
   "outputs": [],
   "source": [
    "# 価格統計の表示\n",
    "if 'outright_data' in locals() and not outright_data.empty:\n",
    "    print(\"Step 11: Price statistics analysis...\")\n",
    "    print(\"\\n\" + \"=\"*50)\n",
    "    print(\"OUTRIGHT PRICE STATISTICS\")\n",
    "    print(\"=\"*50)\n",
    "    \n",
    "    for tenor in outright_data['TenorTypeName'].unique():\n",
    "        tenor_data = outright_data[outright_data['TenorTypeName'] == tenor]\n",
    "        if not tenor_data.empty:\n",
    "            latest_price = tenor_data['LastPrice'].iloc[-1]\n",
    "            min_price = tenor_data['LastPrice'].min()\n",
    "            max_price = tenor_data['LastPrice'].max()\n",
    "            avg_price = tenor_data['LastPrice'].mean()\n",
    "            \n",
    "            print(f\"\\n{tenor}:\")\n",
    "            print(f\"  Latest Price: {latest_price:,.2f} USD/MT\")\n",
    "            print(f\"  30-Day Range: {min_price:,.2f} - {max_price:,.2f} USD/MT\")\n",
    "            print(f\"  30-Day Average: {avg_price:,.2f} USD/MT\")\n",
    "            \n",
    "            # 30日間の変動計算\n",
    "            if len(tenor_data) > 1:\n",
    "                first_price = tenor_data['LastPrice'].iloc[0]\n",
    "                price_change = latest_price - first_price\n",
    "                price_change_pct = (price_change / first_price) * 100\n",
    "                print(f\"  30-Day Change: {price_change:+,.2f} USD/MT ({price_change_pct:+.2f}%)\")\n",
    "    \n",
    "    print(\"\\nStep 11: Price statistics analysis - COMPLETE\")\n",
    "else:\n",
    "    print(\"Step 11: No data available for statistics\")"
   ]
  },
  {
   "cell_type": "code",
   "execution_count": null,
   "metadata": {},
   "outputs": [],
   "source": [
    "# 最終サマリー（修正版）\n",
    "print(\"=\"*60)\n",
    "print(\"ENHANCED DATA TEST WITH VISUALIZATION SUMMARY\")\n",
    "print(\"=\"*60)\n",
    "\n",
    "if 'copper_data' in locals() and not copper_data.empty:\n",
    "    print(f\"✓ Database connection: SUCCESS\")\n",
    "    print(f\"✓ Basic data retrieval: SUCCESS ({len(copper_data)} records)\")\n",
    "\n",
    "if 'historical_data' in locals() and not historical_data.empty:\n",
    "    print(f\"✓ Historical data retrieval: SUCCESS ({len(historical_data)} records)\")\n",
    "    \n",
    "if 'outright_data' in locals() and not outright_data.empty:\n",
    "    print(f\"✓ Outright price filtering: SUCCESS ({len(outright_data)} records)\")\n",
    "    print(f\"✓ Price visualization: SUCCESS\")\n",
    "    print(f\"✓ Statistical analysis: SUCCESS\")\n",
    "    \n",
    "    print(f\"\\nData Summary:\")\n",
    "    print(f\"  - Date Range: {historical_data['TradeDate'].min()} to {historical_data['TradeDate'].max()}\")\n",
    "    print(f\"  - Available Tenors: {', '.join(outright_data['TenorTypeName'].unique())}\")\n",
    "    print(f\"  - Total Data Points: {len(outright_data)}\")\n",
    "    \n",
    "    print(\"\\n🎉 Ready for advanced analysis and visualization!\")\n",
    "else:\n",
    "    print(\"✗ Some visualization steps failed - check the steps above\")\n",
    "\n",
    "print(\"=\"*60)"
   ]
  }
 ],
 "metadata": {
  "kernelspec": {
   "display_name": "Python 3",
   "language": "python",
   "name": "python3"
  },
  "language_info": {
   "codemirror_mode": {
    "name": "ipython",
    "version": 3
   },
   "file_extension": ".py",
   "mimetype": "text/x-python",
   "name": "python",
   "nbconvert_exporter": "python",
   "pygments_lexer": "ipython3",
   "version": "3.11.0"
  }
 },
 "nbformat": 4,
 "nbformat_minor": 4
}